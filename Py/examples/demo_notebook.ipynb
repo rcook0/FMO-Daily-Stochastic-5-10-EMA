import pandas as pd
import matplotlib.pyplot as plt
from eod_strategy.eod_continuation import StrategyConfig, run_strategy_on_dataframe
from eod_strategy.simulator import simulate_positions

df = pd.read_csv("sample_data.csv", parse_dates=["timestamp"]).set_index("timestamp")
cfg = StrategyConfig(symbol="XAUUSD", buffer=0.10)
signals = run_strategy_on_dataframe(df, cfg)
results = simulate_positions(signals, df)

print(results.head())

# Quick stats
print("Win rate:", (results["exit_reason"]=="TP").mean())
print("Avg R multiple:", results["R_mult"].mean())

# Plot cumulative R
results["cumR"] = results["R_mult"].cumsum()
results["cumR"].plot(title="Cumulative R Multiples")
plt.show()
